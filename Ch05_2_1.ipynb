{
 "cells": [
  {
   "cell_type": "code",
   "execution_count": 46,
   "metadata": {},
   "outputs": [],
   "source": [
    "from keras import layers\n",
    "from keras import models"
   ]
  },
  {
   "cell_type": "code",
   "execution_count": 57,
   "metadata": {
    "collapsed": true
   },
   "outputs": [],
   "source": [
    "# Data SETTINGS\n",
    "base_dir = \"C:\\\\Users\\\\yueki\\\\Study\\\\CNN\\\\data\\\\multi\"\n",
    "train_dir = base_dir + \"\\\\train\"\n",
    "validation_dir = base_dir + \"\\\\validation\"\n",
    "test_dir = base_dir + \"\\\\test\"\n",
    "#train_dir      = \"C:\\\\Users\\\\yueki\\\\Study\\\\Keras\\\\Ch05\\\\sm\\\\train\"\n",
    "#validation_dir = \"C:\\\\Users\\\\yueki\\\\Study\\\\Keras\\\\Ch05\\\\sm\\\\validation\""
   ]
  },
  {
   "cell_type": "code",
   "execution_count": 48,
   "metadata": {
    "collapsed": true
   },
   "outputs": [],
   "source": [
    "model = models.Sequential()\n",
    "model.add(layers.Conv2D(32,(3,3),activation='relu',\n",
    "                       input_shape=(150,150,3)))\n",
    "model.add(layers.MaxPooling2D((2,2)))\n",
    "model.add(layers.Conv2D(64,(3,3),activation='relu'))\n",
    "model.add(layers.MaxPooling2D((2,2)))\n",
    "model.add(layers.Conv2D(128,(3,3),activation='relu'))\n",
    "model.add(layers.MaxPooling2D((2,2)))\n",
    "model.add(layers.Conv2D(128,(3,3),activation='relu'))\n",
    "model.add(layers.MaxPooling2D((2,2)))\n",
    "model.add(layers.Flatten())\n",
    "model.add(layers.Dense(512, activation='relu'))\n",
    "\n",
    "#model.add(layers.Dense(1,activation='sigmoid'))\n",
    "model.add(layers.Dense(3,activation='softmax'))"
   ]
  },
  {
   "cell_type": "code",
   "execution_count": 50,
   "metadata": {},
   "outputs": [
    {
     "name": "stdout",
     "output_type": "stream",
     "text": [
      "_________________________________________________________________\n",
      "Layer (type)                 Output Shape              Param #   \n",
      "=================================================================\n",
      "conv2d_29 (Conv2D)           (None, 148, 148, 32)      896       \n",
      "_________________________________________________________________\n",
      "max_pooling2d_29 (MaxPooling (None, 74, 74, 32)        0         \n",
      "_________________________________________________________________\n",
      "conv2d_30 (Conv2D)           (None, 72, 72, 64)        18496     \n",
      "_________________________________________________________________\n",
      "max_pooling2d_30 (MaxPooling (None, 36, 36, 64)        0         \n",
      "_________________________________________________________________\n",
      "conv2d_31 (Conv2D)           (None, 34, 34, 128)       73856     \n",
      "_________________________________________________________________\n",
      "max_pooling2d_31 (MaxPooling (None, 17, 17, 128)       0         \n",
      "_________________________________________________________________\n",
      "conv2d_32 (Conv2D)           (None, 15, 15, 128)       147584    \n",
      "_________________________________________________________________\n",
      "max_pooling2d_32 (MaxPooling (None, 7, 7, 128)         0         \n",
      "_________________________________________________________________\n",
      "flatten_8 (Flatten)          (None, 6272)              0         \n",
      "_________________________________________________________________\n",
      "dense_15 (Dense)             (None, 512)               3211776   \n",
      "_________________________________________________________________\n",
      "dense_16 (Dense)             (None, 3)                 1539      \n",
      "=================================================================\n",
      "Total params: 3,454,147\n",
      "Trainable params: 3,454,147\n",
      "Non-trainable params: 0\n",
      "_________________________________________________________________\n"
     ]
    }
   ],
   "source": [
    "model.summary()"
   ]
  },
  {
   "cell_type": "code",
   "execution_count": 51,
   "metadata": {
    "collapsed": true
   },
   "outputs": [],
   "source": [
    "from keras import optimizers\n",
    "model.compile(loss='sparse_categorical_crossentropy',\n",
    "             optimizer='rmsprop',\n",
    "             metrics=['acc'])"
   ]
  },
  {
   "cell_type": "code",
   "execution_count": 52,
   "metadata": {},
   "outputs": [
    {
     "name": "stdout",
     "output_type": "stream",
     "text": [
      "Found 2160 images belonging to 3 classes.\n",
      "Found 1080 images belonging to 3 classes.\n"
     ]
    }
   ],
   "source": [
    "from keras.preprocessing.image import ImageDataGenerator\n",
    "\n",
    "train_datagen = ImageDataGenerator(rescale=1./255)\n",
    "test_datagen = ImageDataGenerator(rescale=1./255)\n",
    "\n",
    "train_generator = train_datagen.flow_from_directory(\n",
    "    train_dir,\n",
    "    target_size=(150,150),\n",
    "    batch_size = 20,\n",
    "    class_mode ='sparse'\n",
    ")\n",
    "\n",
    "validation_generator = test_datagen.flow_from_directory(\n",
    "    validation_dir,\n",
    "    target_size=(150,150),\n",
    "    batch_size = 20,\n",
    "    class_mode ='sparse'\n",
    "    #class_mode ='categorical'\n",
    "    \n",
    ")\n"
   ]
  },
  {
   "cell_type": "code",
   "execution_count": 53,
   "metadata": {},
   "outputs": [
    {
     "name": "stdout",
     "output_type": "stream",
     "text": [
      "Epoch 1/40\n",
      " 99/100 [============================>.] - ETA: 1s - loss: 0.9084 - acc: 0.4889"
     ]
    },
    {
     "name": "stderr",
     "output_type": "stream",
     "text": [
      "C:\\Users\\yueki\\Anaconda3\\lib\\site-packages\\PIL\\Image.py:888: UserWarning: Palette images with Transparency   expressed in bytes should be converted to RGBA images\n",
      "  'to RGBA images')\n"
     ]
    },
    {
     "name": "stdout",
     "output_type": "stream",
     "text": [
      "100/100 [==============================] - 163s 2s/step - loss: 0.9082 - acc: 0.4880 - val_loss: 0.7280 - val_acc: 0.5450\n",
      "Epoch 2/40\n",
      "100/100 [==============================] - 164s 2s/step - loss: 0.7518 - acc: 0.5470 - val_loss: 0.6976 - val_acc: 0.5890\n",
      "Epoch 3/40\n",
      "100/100 [==============================] - 159s 2s/step - loss: 0.7191 - acc: 0.5900 - val_loss: 1.0389 - val_acc: 0.4950\n",
      "Epoch 4/40\n",
      "100/100 [==============================] - 157s 2s/step - loss: 0.6785 - acc: 0.6400 - val_loss: 0.7131 - val_acc: 0.6160\n",
      "Epoch 5/40\n",
      "100/100 [==============================] - 181s 2s/step - loss: 0.6411 - acc: 0.6790 - val_loss: 0.6196 - val_acc: 0.6880\n",
      "Epoch 6/40\n",
      "100/100 [==============================] - 196s 2s/step - loss: 0.5989 - acc: 0.7040 - val_loss: 0.5587 - val_acc: 0.7280\n",
      "Epoch 7/40\n",
      "100/100 [==============================] - 205s 2s/step - loss: 0.5761 - acc: 0.7310 - val_loss: 0.6362 - val_acc: 0.6370\n",
      "Epoch 8/40\n",
      "100/100 [==============================] - 155s 2s/step - loss: 0.5157 - acc: 0.7475 - val_loss: 0.6277 - val_acc: 0.7160\n",
      "Epoch 9/40\n",
      "100/100 [==============================] - 146s 1s/step - loss: 0.4685 - acc: 0.7880 - val_loss: 0.6525 - val_acc: 0.7180\n",
      "Epoch 10/40\n",
      "100/100 [==============================] - 146s 1s/step - loss: 0.4363 - acc: 0.8085 - val_loss: 0.5976 - val_acc: 0.7210\n",
      "Epoch 11/40\n",
      "100/100 [==============================] - 153s 2s/step - loss: 0.3695 - acc: 0.8440 - val_loss: 0.6602 - val_acc: 0.7350\n",
      "Epoch 12/40\n",
      "100/100 [==============================] - 151s 2s/step - loss: 0.3229 - acc: 0.8640 - val_loss: 0.9544 - val_acc: 0.6680\n",
      "Epoch 13/40\n",
      "100/100 [==============================] - 152s 2s/step - loss: 0.2576 - acc: 0.9025 - val_loss: 0.7857 - val_acc: 0.7400\n",
      "Epoch 14/40\n",
      "100/100 [==============================] - 151s 2s/step - loss: 0.2073 - acc: 0.9210 - val_loss: 0.9144 - val_acc: 0.7030\n",
      "Epoch 15/40\n",
      "100/100 [==============================] - 151s 2s/step - loss: 0.1794 - acc: 0.9330 - val_loss: 0.9325 - val_acc: 0.7120\n",
      "Epoch 16/40\n",
      "100/100 [==============================] - 189s 2s/step - loss: 0.1395 - acc: 0.9525 - val_loss: 1.2455 - val_acc: 0.7030\n",
      "Epoch 17/40\n",
      "100/100 [==============================] - 227s 2s/step - loss: 0.1528 - acc: 0.9435 - val_loss: 1.3091 - val_acc: 0.7240\n",
      "Epoch 18/40\n",
      "100/100 [==============================] - 215s 2s/step - loss: 0.1907 - acc: 0.9540 - val_loss: 1.5585 - val_acc: 0.6800\n",
      "Epoch 19/40\n",
      "100/100 [==============================] - 244s 2s/step - loss: 0.1022 - acc: 0.9660 - val_loss: 1.5357 - val_acc: 0.7230\n",
      "Epoch 20/40\n",
      "100/100 [==============================] - 210s 2s/step - loss: 0.1347 - acc: 0.9655 - val_loss: 1.6519 - val_acc: 0.7300\n",
      "Epoch 21/40\n",
      "100/100 [==============================] - 160s 2s/step - loss: 0.0934 - acc: 0.9785 - val_loss: 2.1103 - val_acc: 0.7090\n",
      "Epoch 22/40\n",
      "100/100 [==============================] - 160s 2s/step - loss: 0.1396 - acc: 0.9685 - val_loss: 1.6469 - val_acc: 0.7220\n",
      "Epoch 23/40\n",
      "100/100 [==============================] - 168s 2s/step - loss: 0.0841 - acc: 0.9735 - val_loss: 1.6203 - val_acc: 0.7390\n",
      "Epoch 24/40\n",
      "100/100 [==============================] - 170s 2s/step - loss: 0.0723 - acc: 0.9830 - val_loss: 1.3918 - val_acc: 0.6760\n",
      "Epoch 25/40\n",
      "100/100 [==============================] - 162s 2s/step - loss: 0.0999 - acc: 0.9755 - val_loss: 2.2028 - val_acc: 0.6910\n",
      "Epoch 26/40\n",
      "100/100 [==============================] - 150s 2s/step - loss: 0.1157 - acc: 0.9715 - val_loss: 1.7268 - val_acc: 0.7120\n",
      "Epoch 27/40\n",
      "100/100 [==============================] - 154s 2s/step - loss: 0.0666 - acc: 0.9795 - val_loss: 1.9062 - val_acc: 0.7180\n",
      "Epoch 28/40\n",
      "100/100 [==============================] - 157s 2s/step - loss: 0.1181 - acc: 0.9765 - val_loss: 1.8989 - val_acc: 0.6820\n",
      "Epoch 29/40\n",
      "100/100 [==============================] - 154s 2s/step - loss: 0.1031 - acc: 0.9830 - val_loss: 1.8215 - val_acc: 0.7230\n",
      "Epoch 30/40\n",
      "100/100 [==============================] - 154s 2s/step - loss: 0.0776 - acc: 0.9850 - val_loss: 2.4656 - val_acc: 0.7140\n",
      "Epoch 31/40\n",
      "100/100 [==============================] - 154s 2s/step - loss: 0.1191 - acc: 0.9765 - val_loss: 2.5071 - val_acc: 0.7190\n",
      "Epoch 32/40\n",
      "100/100 [==============================] - 155s 2s/step - loss: 0.0925 - acc: 0.9765 - val_loss: 1.9037 - val_acc: 0.7070\n",
      "Epoch 33/40\n",
      "100/100 [==============================] - 154s 2s/step - loss: 0.0472 - acc: 0.9900 - val_loss: 2.4729 - val_acc: 0.7420\n",
      "Epoch 34/40\n",
      "100/100 [==============================] - 154s 2s/step - loss: 0.0831 - acc: 0.9805 - val_loss: 2.6500 - val_acc: 0.7020\n",
      "Epoch 35/40\n",
      "100/100 [==============================] - 153s 2s/step - loss: 0.1771 - acc: 0.9665 - val_loss: 2.1003 - val_acc: 0.7120\n",
      "Epoch 36/40\n",
      "100/100 [==============================] - 154s 2s/step - loss: 0.0863 - acc: 0.9805 - val_loss: 2.3530 - val_acc: 0.6900\n",
      "Epoch 37/40\n",
      "100/100 [==============================] - 153s 2s/step - loss: 0.1140 - acc: 0.9790 - val_loss: 1.9338 - val_acc: 0.7060\n",
      "Epoch 38/40\n",
      "100/100 [==============================] - 153s 2s/step - loss: 0.0567 - acc: 0.9905 - val_loss: 2.0590 - val_acc: 0.7090\n",
      "Epoch 39/40\n",
      "100/100 [==============================] - 152s 2s/step - loss: 0.0609 - acc: 0.9855 - val_loss: 2.7174 - val_acc: 0.7290\n",
      "Epoch 40/40\n",
      "100/100 [==============================] - 150s 1s/step - loss: 0.1611 - acc: 0.9710 - val_loss: 2.1060 - val_acc: 0.7010\n"
     ]
    }
   ],
   "source": [
    "history = model.fit_generator(train_generator,\n",
    "                             steps_per_epoch=100,\n",
    "                             epochs=40,\n",
    "                             validation_data=validation_generator,\n",
    "                              validation_steps=50\n",
    "                             )"
   ]
  },
  {
   "cell_type": "code",
   "execution_count": 54,
   "metadata": {
    "collapsed": true
   },
   "outputs": [],
   "source": [
    "model.save('cats_and_dogs_small_1_20201115.h5')"
   ]
  },
  {
   "cell_type": "code",
   "execution_count": 55,
   "metadata": {},
   "outputs": [
    {
     "data": {
      "image/png": "[encoded data removed]",
      "text/plain": [
       "<Figure size 432x288 with 1 Axes>"
      ]
     },
     "metadata": {},
     "output_type": "display_data"
    },
    {
     "data": {
      "image/png": "[encoded data removed]",
      "text/plain": [
       "<Figure size 432x288 with 1 Axes>"
      ]
     },
     "metadata": {},
     "output_type": "display_data"
    }
   ],
   "source": [
    "import matplotlib.pyplot as plt\n",
    "acc = history.history['acc']\n",
    "val_acc = history.history['val_acc']\n",
    "loss = history.history['loss']\n",
    "val_loss = history.history['val_loss']\n",
    "\n",
    "epochs = range(1 , len(acc) + 1)\n",
    "\n",
    "# plot ratio\n",
    "plt.plot(epochs,acc,'bo',label='Training acc')\n",
    "plt.plot(epochs,val_acc, 'b', label='Validation acc')\n",
    "plt.title('Training and Validation accuracy')\n",
    "plt.legend()\n",
    "plt.figure()\n",
    "\n",
    "plt.plot(epochs, loss,'bo', label='Training loss')\n",
    "plt.plot(epochs, val_loss,'b',label='Validation loss')\n",
    "plt.title('Training and validation loss')\n",
    "plt.legend()\n",
    "\n",
    "plt.show()"
   ]
  },
  {
   "cell_type": "code",
   "execution_count": 63,
   "metadata": {},
   "outputs": [
    {
     "name": "stdout",
     "output_type": "stream",
     "text": [
      "Found 1019 images belonging to 3 classes.\n",
      "test acc: 0.7059999978542328\n"
     ]
    }
   ],
   "source": [
    "test_generator = test_datagen.flow_from_directory(\n",
    "        test_dir,\n",
    "        target_size=(150, 150),\n",
    "        batch_size=20,\n",
    "        class_mode='sparse')\n",
    "\n",
    "test_loss, test_acc = model.evaluate_generator(test_generator, steps=50)\n",
    "print('test acc:', test_acc)"
   ]
  },
  {
   "cell_type": "code",
   "execution_count": 82,
   "metadata": {},
   "outputs": [
    {
     "name": "stdout",
     "output_type": "stream",
     "text": [
      "[[0. 0. 1.]]\n"
     ]
    }
   ],
   "source": [
    "from keras.preprocessing import image\n",
    "from keras.applications.vgg16 import preprocess_input, decode_predictions\n",
    "predict_img_path = \"C:\\\\Users\\\\yueki\\\\Study\\\\data\\\\kitori_001.png\"\n",
    "predict_img = image.load_img(predict_img_path,target_size=(150,150))\n",
    "x = image.img_to_array(predict_img)\n",
    "x = np.expand_dims(x,axis=0)\n",
    "preds = model.predict(x)\n",
    "print(preds)"
   ]
  }
 ],
 "metadata": {
  "kernelspec": {
   "display_name": "Python 3",
   "language": "python",
   "name": "python3"
  },
  "language_info": {
   "codemirror_mode": {
    "name": "ipython",
    "version": 3
   },
   "file_extension": ".py",
   "mimetype": "text/x-python",
   "name": "python",
   "nbconvert_exporter": "python",
   "pygments_lexer": "ipython3",
   "version": "3.6.2"
  }
 },
 "nbformat": 4,
 "nbformat_minor": 2
}
