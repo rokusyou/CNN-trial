{
  "nbformat": 4,
  "nbformat_minor": 0,
  "metadata": {
    "kernelspec": {
      "display_name": "Python 3",
      "language": "python",
      "name": "python3"
    },
    "language_info": {
      "codemirror_mode": {
        "name": "ipython",
        "version": 3
      },
      "file_extension": ".py",
      "mimetype": "text/x-python",
      "name": "python",
      "nbconvert_exporter": "python",
      "pygments_lexer": "ipython3",
      "version": "3.6.2"
    },
    "colab": {
      "name": "CNN-Trial-1-traning.ipynb",
      "provenance": [],
      "collapsed_sections": []
    }
  },
  "cells": [
    {
      "cell_type": "code",
      "metadata": {
        "id": "oSsf7TGh-vTN"
      },
      "source": [
        "#from google.colab import drive\n",
        "#drive.mount('/content/drive')"
      ],
      "execution_count": 45,
      "outputs": []
    },
    {
      "cell_type": "code",
      "metadata": {
        "id": "LCCqhXv3ACJS"
      },
      "source": [
        "# !unzip drive/MyDrive/study/CNN-Trial/multi4.zip "
      ],
      "execution_count": null,
      "outputs": []
    },
    {
      "cell_type": "code",
      "metadata": {
        "id": "HAoGWyxT9RDX"
      },
      "source": [
        "################\n",
        "### SETTINGS ###\n",
        "################\n",
        "\n",
        "# Data directoriy\n",
        "#base_dir = \"drive/MyDrive/study/CNN-Trial/multi4/data\"\n",
        "base_dir = \"/content/multi4/data\"\n",
        "train_dir = base_dir + \"/train\"\n",
        "validation_dir = base_dir + \"/validation\"\n",
        "test_dir = base_dir + \"/test\""
      ],
      "execution_count": 53,
      "outputs": []
    },
    {
      "cell_type": "code",
      "metadata": {
        "id": "S2yJVndc9RDX"
      },
      "source": [
        "from keras import layers\n",
        "from keras import models\n",
        "\n",
        "model = models.Sequential()\n",
        "model.add(layers.Conv2D(32,(3,3),activation='relu',\n",
        "                       input_shape=(150,150,3)))\n",
        "model.add(layers.MaxPooling2D((2,2)))\n",
        "model.add(layers.Conv2D(64,(3,3),activation='relu'))\n",
        "model.add(layers.MaxPooling2D((2,2)))\n",
        "model.add(layers.Conv2D(128,(3,3),activation='relu'))\n",
        "model.add(layers.MaxPooling2D((2,2)))\n",
        "model.add(layers.Conv2D(128,(3,3),activation='relu'))\n",
        "model.add(layers.MaxPooling2D((2,2)))\n",
        "model.add(layers.Flatten())\n",
        "model.add(layers.Dense(512, activation='relu'))\n",
        "\n",
        "#model.add(layers.Dense(1,activation='sigmoid')) # binary class classification\n",
        "model.add(layers.Dense(4,activation='softmax'))  # multi class classification"
      ],
      "execution_count": 49,
      "outputs": []
    },
    {
      "cell_type": "code",
      "metadata": {
        "id": "RZsC27fQ9RDX",
        "colab": {
          "base_uri": "https://localhost:8080/"
        },
        "outputId": "198627e8-3eb3-48ce-966e-339a4e55c5ef"
      },
      "source": [
        "model.summary()"
      ],
      "execution_count": 50,
      "outputs": [
        {
          "output_type": "stream",
          "text": [
            "Model: \"sequential_5\"\n",
            "_________________________________________________________________\n",
            "Layer (type)                 Output Shape              Param #   \n",
            "=================================================================\n",
            "conv2d_20 (Conv2D)           (None, 148, 148, 32)      896       \n",
            "_________________________________________________________________\n",
            "max_pooling2d_20 (MaxPooling (None, 74, 74, 32)        0         \n",
            "_________________________________________________________________\n",
            "conv2d_21 (Conv2D)           (None, 72, 72, 64)        18496     \n",
            "_________________________________________________________________\n",
            "max_pooling2d_21 (MaxPooling (None, 36, 36, 64)        0         \n",
            "_________________________________________________________________\n",
            "conv2d_22 (Conv2D)           (None, 34, 34, 128)       73856     \n",
            "_________________________________________________________________\n",
            "max_pooling2d_22 (MaxPooling (None, 17, 17, 128)       0         \n",
            "_________________________________________________________________\n",
            "conv2d_23 (Conv2D)           (None, 15, 15, 128)       147584    \n",
            "_________________________________________________________________\n",
            "max_pooling2d_23 (MaxPooling (None, 7, 7, 128)         0         \n",
            "_________________________________________________________________\n",
            "flatten_5 (Flatten)          (None, 6272)              0         \n",
            "_________________________________________________________________\n",
            "dense_10 (Dense)             (None, 512)               3211776   \n",
            "_________________________________________________________________\n",
            "dense_11 (Dense)             (None, 4)                 2052      \n",
            "=================================================================\n",
            "Total params: 3,454,660\n",
            "Trainable params: 3,454,660\n",
            "Non-trainable params: 0\n",
            "_________________________________________________________________\n"
          ],
          "name": "stdout"
        }
      ]
    },
    {
      "cell_type": "code",
      "metadata": {
        "id": "9jTBEZLc9RDX"
      },
      "source": [
        "from keras import optimizers\n",
        "model.compile(loss='sparse_categorical_crossentropy',\n",
        "             optimizer='rmsprop',\n",
        "             metrics=['acc'])"
      ],
      "execution_count": 54,
      "outputs": []
    },
    {
      "cell_type": "code",
      "metadata": {
        "id": "x8pxrd2Q9RDY",
        "colab": {
          "base_uri": "https://localhost:8080/"
        },
        "outputId": "0803041b-34b2-4a16-b337-123dbac9de44"
      },
      "source": [
        "from keras.preprocessing.image import ImageDataGenerator\n",
        "\n",
        "train_datagen = ImageDataGenerator(rescale=1./255)\n",
        "test_datagen = ImageDataGenerator(rescale=1./255)\n",
        "\n",
        "train_generator = train_datagen.flow_from_directory(\n",
        "    train_dir,\n",
        "    target_size=(150,150),\n",
        "    batch_size = 20,\n",
        "    class_mode ='sparse'\n",
        ")\n",
        "\n",
        "validation_generator = test_datagen.flow_from_directory(\n",
        "    validation_dir,\n",
        "    target_size=(150,150),\n",
        "    batch_size = 20,\n",
        "    class_mode ='sparse'\n",
        "    #class_mode ='categorical'\n",
        "    \n",
        ")\n"
      ],
      "execution_count": 55,
      "outputs": [
        {
          "output_type": "stream",
          "text": [
            "Found 2658 images belonging to 4 classes.\n",
            "Found 1510 images belonging to 4 classes.\n"
          ],
          "name": "stdout"
        }
      ]
    },
    {
      "cell_type": "code",
      "metadata": {
        "id": "S0Xyx5ja9RDY",
        "colab": {
          "base_uri": "https://localhost:8080/"
        },
        "outputId": "73db2652-3445-442e-9e7d-5363926b3b38"
      },
      "source": [
        "# Execute model training\n",
        "history = model.fit_generator(train_generator,\n",
        "                             steps_per_epoch=100,\n",
        "                             epochs=30,\n",
        "                             validation_data=validation_generator,\n",
        "                              validation_steps=40\n",
        "                             )"
      ],
      "execution_count": 58,
      "outputs": [
        {
          "output_type": "stream",
          "text": [
            "Epoch 1/30\n",
            "100/100 [==============================] - ETA: 0s - loss: 0.6466 - acc: 0.6692"
          ],
          "name": "stdout"
        },
        {
          "output_type": "stream",
          "text": [
            "/usr/local/lib/python3.6/dist-packages/PIL/Image.py:932: UserWarning: Palette images with Transparency expressed in bytes should be converted to RGBA images\n",
            "  \"Palette images with Transparency expressed in bytes should be \"\n"
          ],
          "name": "stderr"
        },
        {
          "output_type": "stream",
          "text": [
            "\b\b\b\b\b\b\b\b\b\b\b\b\b\b\b\b\b\b\b\b\b\b\b\b\b\b\b\b\b\b\b\b\b\b\b\b\b\b\b\b\b\b\b\b\b\b\b\b\b\b\b\b\b\b\b\b\b\b\b\b\b\b\b\b\b\b\b\b\b\b\b\b\b\b\b\b\b\b\b\r100/100 [==============================] - 104s 1s/step - loss: 0.6466 - acc: 0.6692 - val_loss: 1.3471 - val_acc: 0.4825\n",
            "Epoch 2/30\n",
            "100/100 [==============================] - 104s 1s/step - loss: 0.6300 - acc: 0.7052 - val_loss: 0.7244 - val_acc: 0.6950\n",
            "Epoch 3/30\n",
            "100/100 [==============================] - 104s 1s/step - loss: 0.5892 - acc: 0.7277 - val_loss: 0.8043 - val_acc: 0.6475\n",
            "Epoch 4/30\n",
            "100/100 [==============================] - 104s 1s/step - loss: 0.5275 - acc: 0.7518 - val_loss: 0.8096 - val_acc: 0.6612\n",
            "Epoch 5/30\n",
            "100/100 [==============================] - 105s 1s/step - loss: 0.4885 - acc: 0.7875 - val_loss: 0.6929 - val_acc: 0.7025\n",
            "Epoch 6/30\n",
            "100/100 [==============================] - 105s 1s/step - loss: 0.4442 - acc: 0.8095 - val_loss: 0.8344 - val_acc: 0.6837\n",
            "Epoch 7/30\n",
            "100/100 [==============================] - 105s 1s/step - loss: 0.4050 - acc: 0.8158 - val_loss: 0.7484 - val_acc: 0.7150\n",
            "Epoch 8/30\n",
            "100/100 [==============================] - 105s 1s/step - loss: 0.3485 - acc: 0.8570 - val_loss: 1.0548 - val_acc: 0.6950\n",
            "Epoch 9/30\n",
            "100/100 [==============================] - 105s 1s/step - loss: 0.3210 - acc: 0.8754 - val_loss: 1.0033 - val_acc: 0.6913\n",
            "Epoch 10/30\n",
            "100/100 [==============================] - 106s 1s/step - loss: 0.2896 - acc: 0.8905 - val_loss: 0.8797 - val_acc: 0.6950\n",
            "Epoch 11/30\n",
            "100/100 [==============================] - 104s 1s/step - loss: 0.2381 - acc: 0.9079 - val_loss: 1.1386 - val_acc: 0.6988\n",
            "Epoch 12/30\n",
            "100/100 [==============================] - 106s 1s/step - loss: 0.2100 - acc: 0.9205 - val_loss: 1.7204 - val_acc: 0.6450\n",
            "Epoch 13/30\n",
            "100/100 [==============================] - 105s 1s/step - loss: 0.1838 - acc: 0.9389 - val_loss: 1.3032 - val_acc: 0.7200\n",
            "Epoch 14/30\n",
            "100/100 [==============================] - 107s 1s/step - loss: 0.1645 - acc: 0.9424 - val_loss: 1.6339 - val_acc: 0.6925\n",
            "Epoch 15/30\n",
            "100/100 [==============================] - 105s 1s/step - loss: 0.1383 - acc: 0.9575 - val_loss: 1.6731 - val_acc: 0.6925\n",
            "Epoch 16/30\n",
            "100/100 [==============================] - 105s 1s/step - loss: 0.1287 - acc: 0.9535 - val_loss: 1.8721 - val_acc: 0.6888\n",
            "Epoch 17/30\n",
            "100/100 [==============================] - 105s 1s/step - loss: 0.1249 - acc: 0.9605 - val_loss: 2.1608 - val_acc: 0.6850\n",
            "Epoch 18/30\n",
            "100/100 [==============================] - 105s 1s/step - loss: 0.0973 - acc: 0.9665 - val_loss: 1.6885 - val_acc: 0.6988\n",
            "Epoch 19/30\n",
            "100/100 [==============================] - 104s 1s/step - loss: 0.1118 - acc: 0.9715 - val_loss: 2.7512 - val_acc: 0.7075\n",
            "Epoch 20/30\n",
            "100/100 [==============================] - 104s 1s/step - loss: 0.0993 - acc: 0.9730 - val_loss: 1.9239 - val_acc: 0.7138\n",
            "Epoch 21/30\n",
            "100/100 [==============================] - 105s 1s/step - loss: 0.0801 - acc: 0.9820 - val_loss: 3.2957 - val_acc: 0.6700\n",
            "Epoch 22/30\n",
            "100/100 [==============================] - 104s 1s/step - loss: 0.0938 - acc: 0.9765 - val_loss: 2.2267 - val_acc: 0.7150\n",
            "Epoch 23/30\n",
            "100/100 [==============================] - 105s 1s/step - loss: 0.0906 - acc: 0.9810 - val_loss: 4.9623 - val_acc: 0.6162\n",
            "Epoch 24/30\n",
            "100/100 [==============================] - 104s 1s/step - loss: 0.1191 - acc: 0.9730 - val_loss: 2.2924 - val_acc: 0.7212\n",
            "Epoch 25/30\n",
            "100/100 [==============================] - 109s 1s/step - loss: 0.0577 - acc: 0.9820 - val_loss: 3.5520 - val_acc: 0.6950\n",
            "Epoch 26/30\n",
            "100/100 [==============================] - 107s 1s/step - loss: 0.0591 - acc: 0.9825 - val_loss: 2.8586 - val_acc: 0.6900\n",
            "Epoch 27/30\n",
            "100/100 [==============================] - 104s 1s/step - loss: 0.1646 - acc: 0.9720 - val_loss: 2.1926 - val_acc: 0.7237\n",
            "Epoch 28/30\n",
            "100/100 [==============================] - 103s 1s/step - loss: 0.0639 - acc: 0.9800 - val_loss: 2.5288 - val_acc: 0.7050\n",
            "Epoch 29/30\n",
            "100/100 [==============================] - 104s 1s/step - loss: 0.0787 - acc: 0.9775 - val_loss: 4.5722 - val_acc: 0.6637\n",
            "Epoch 30/30\n",
            "100/100 [==============================] - 103s 1s/step - loss: 0.0546 - acc: 0.9860 - val_loss: 3.2917 - val_acc: 0.7100\n"
          ],
          "name": "stdout"
        }
      ]
    },
    {
      "cell_type": "code",
      "metadata": {
        "id": "SH16IVzZ9RDY"
      },
      "source": [
        "model.save('multi4-trial.h5')"
      ],
      "execution_count": 59,
      "outputs": []
    },
    {
      "cell_type": "code",
      "metadata": {
        "id": "Y4_h7wPk9RDY",
        "colab": {
          "base_uri": "https://localhost:8080/",
          "height": 545
        },
        "outputId": "a7d283a7-9d76-4c0b-96e6-99969ced2104"
      },
      "source": [
        "import matplotlib.pyplot as plt\n",
        "acc = history.history['acc']\n",
        "val_acc = history.history['val_acc']\n",
        "loss = history.history['loss']\n",
        "val_loss = history.history['val_loss']\n",
        "\n",
        "epochs = range(1 , len(acc) + 1)\n",
        "\n",
        "# plot ratio\n",
        "plt.plot(epochs,acc,'bo',label='Training acc')\n",
        "plt.plot(epochs,val_acc, 'b', label='Validation acc')\n",
        "plt.title('Training and Validation accuracy')\n",
        "plt.legend()\n",
        "plt.figure()\n",
        "\n",
        "plt.plot(epochs, loss,'bo', label='Training loss')\n",
        "plt.plot(epochs, val_loss,'b',label='Validation loss')\n",
        "plt.title('Training and validation loss')\n",
        "plt.legend()\n",
        "\n",
        "plt.show()"
      ],
      "execution_count": 60,
      "outputs": [
        {
          "output_type": "display_data",
          "data": {
            "image/png": "[encoded data removed]",
            "text/plain": [
              "<Figure size 432x288 with 1 Axes>"
            ]
          },
          "metadata": {
            "tags": [],
            "needs_background": "light"
          }
        },
        {
          "output_type": "display_data",
          "data": {
            "image/png": "[encoded data removed]",
            "text/plain": [
              "<Figure size 432x288 with 1 Axes>"
            ]
          },
          "metadata": {
            "tags": [],
            "needs_background": "light"
          }
        }
      ]
    },
    {
      "cell_type": "code",
      "metadata": {
        "id": "Y6BJ-2819RDY",
        "colab": {
          "base_uri": "https://localhost:8080/"
        },
        "outputId": "e0c34531-6906-42a6-eba0-515af7996fea"
      },
      "source": [
        "test_generator = test_datagen.flow_from_directory(\n",
        "        test_dir,\n",
        "        target_size=(150, 150),\n",
        "        batch_size=20,\n",
        "        class_mode='sparse')\n",
        "\n",
        "test_loss, test_acc = model.evaluate_generator(test_generator, steps=50)\n",
        "print('test acc:', test_acc)"
      ],
      "execution_count": 61,
      "outputs": [
        {
          "output_type": "stream",
          "text": [
            "Found 1400 images belonging to 4 classes.\n",
            "WARNING:tensorflow:From <ipython-input-61-30e3d773fd6f>:7: Model.evaluate_generator (from tensorflow.python.keras.engine.training) is deprecated and will be removed in a future version.\n",
            "Instructions for updating:\n",
            "Please use Model.evaluate, which supports generators.\n",
            "test acc: 0.7049999833106995\n"
          ],
          "name": "stdout"
        }
      ]
    },
    {
      "cell_type": "code",
      "metadata": {
        "id": "eyYkhCUpBPuh"
      },
      "source": [
        ""
      ],
      "execution_count": 61,
      "outputs": []
    }
  ]
}