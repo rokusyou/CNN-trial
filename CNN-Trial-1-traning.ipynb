{
 "cells": [
  {
   "cell_type": "code",
   "execution_count": 1,
   "metadata": {},
   "outputs": [
    {
     "name": "stderr",
     "output_type": "stream",
     "text": [
      "C:\\Users\\yueki\\Anaconda3\\lib\\site-packages\\h5py\\__init__.py:34: FutureWarning: Conversion of the second argument of issubdtype from `float` to `np.floating` is deprecated. In future, it will be treated as `np.float64 == np.dtype(float).type`.\n",
      "  from ._conv import register_converters as _register_converters\n",
      "Using TensorFlow backend.\n"
     ]
    }
   ],
   "source": [
    "from keras import layers\n",
    "from keras import models"
   ]
  },
  {
   "cell_type": "code",
   "execution_count": 2,
   "metadata": {
    "collapsed": true
   },
   "outputs": [],
   "source": [
    "################\n",
    "### SETTINGS ###\n",
    "################\n",
    "\n",
    "# Data directoriy\n",
    "base_dir = \".\\\\data\\\\multi4\"\n",
    "train_dir = base_dir + \"\\\\train\"\n",
    "validation_dir = base_dir + \"\\\\validation\"\n",
    "test_dir = base_dir + \"\\\\test\""
   ]
  },
  {
   "cell_type": "code",
   "execution_count": 3,
   "metadata": {
    "collapsed": true
   },
   "outputs": [],
   "source": [
    "model = models.Sequential()\n",
    "model.add(layers.Conv2D(32,(3,3),activation='relu',\n",
    "                       input_shape=(150,150,3)))\n",
    "model.add(layers.MaxPooling2D((2,2)))\n",
    "model.add(layers.Conv2D(64,(3,3),activation='relu'))\n",
    "model.add(layers.MaxPooling2D((2,2)))\n",
    "model.add(layers.Conv2D(128,(3,3),activation='relu'))\n",
    "model.add(layers.MaxPooling2D((2,2)))\n",
    "model.add(layers.Conv2D(128,(3,3),activation='relu'))\n",
    "model.add(layers.MaxPooling2D((2,2)))\n",
    "model.add(layers.Flatten())\n",
    "model.add(layers.Dense(512, activation='relu'))\n",
    "\n",
    "#model.add(layers.Dense(1,activation='sigmoid'))\n",
    "model.add(layers.Dense(4,activation='softmax'))"
   ]
  },
  {
   "cell_type": "code",
   "execution_count": 4,
   "metadata": {},
   "outputs": [
    {
     "name": "stdout",
     "output_type": "stream",
     "text": [
      "_________________________________________________________________\n",
      "Layer (type)                 Output Shape              Param #   \n",
      "=================================================================\n",
      "conv2d_1 (Conv2D)            (None, 148, 148, 32)      896       \n",
      "_________________________________________________________________\n",
      "max_pooling2d_1 (MaxPooling2 (None, 74, 74, 32)        0         \n",
      "_________________________________________________________________\n",
      "conv2d_2 (Conv2D)            (None, 72, 72, 64)        18496     \n",
      "_________________________________________________________________\n",
      "max_pooling2d_2 (MaxPooling2 (None, 36, 36, 64)        0         \n",
      "_________________________________________________________________\n",
      "conv2d_3 (Conv2D)            (None, 34, 34, 128)       73856     \n",
      "_________________________________________________________________\n",
      "max_pooling2d_3 (MaxPooling2 (None, 17, 17, 128)       0         \n",
      "_________________________________________________________________\n",
      "conv2d_4 (Conv2D)            (None, 15, 15, 128)       147584    \n",
      "_________________________________________________________________\n",
      "max_pooling2d_4 (MaxPooling2 (None, 7, 7, 128)         0         \n",
      "_________________________________________________________________\n",
      "flatten_1 (Flatten)          (None, 6272)              0         \n",
      "_________________________________________________________________\n",
      "dense_1 (Dense)              (None, 512)               3211776   \n",
      "_________________________________________________________________\n",
      "dense_2 (Dense)              (None, 4)                 2052      \n",
      "=================================================================\n",
      "Total params: 3,454,660\n",
      "Trainable params: 3,454,660\n",
      "Non-trainable params: 0\n",
      "_________________________________________________________________\n"
     ]
    }
   ],
   "source": [
    "model.summary()"
   ]
  },
  {
   "cell_type": "code",
   "execution_count": 5,
   "metadata": {
    "collapsed": true
   },
   "outputs": [],
   "source": [
    "from keras import optimizers\n",
    "model.compile(loss='sparse_categorical_crossentropy',\n",
    "             optimizer='rmsprop',\n",
    "             metrics=['acc'])"
   ]
  },
  {
   "cell_type": "code",
   "execution_count": 6,
   "metadata": {},
   "outputs": [
    {
     "name": "stdout",
     "output_type": "stream",
     "text": [
      "Found 2658 images belonging to 4 classes.\n",
      "Found 1510 images belonging to 4 classes.\n"
     ]
    }
   ],
   "source": [
    "from keras.preprocessing.image import ImageDataGenerator\n",
    "\n",
    "train_datagen = ImageDataGenerator(rescale=1./255)\n",
    "test_datagen = ImageDataGenerator(rescale=1./255)\n",
    "\n",
    "train_generator = train_datagen.flow_from_directory(\n",
    "    train_dir,\n",
    "    target_size=(150,150),\n",
    "    batch_size = 20,\n",
    "    class_mode ='sparse'\n",
    ")\n",
    "\n",
    "validation_generator = test_datagen.flow_from_directory(\n",
    "    validation_dir,\n",
    "    target_size=(150,150),\n",
    "    batch_size = 20,\n",
    "    class_mode ='sparse'\n",
    "    #class_mode ='categorical'\n",
    "    \n",
    ")\n"
   ]
  },
  {
   "cell_type": "code",
   "execution_count": 7,
   "metadata": {},
   "outputs": [
    {
     "name": "stdout",
     "output_type": "stream",
     "text": [
      "Epoch 1/30\n",
      "100/100 [==============================] - 208s 2s/step - loss: 1.1860 - acc: 0.4600 - val_loss: 0.9418 - val_acc: 0.5138\n",
      "Epoch 2/30\n",
      " 99/100 [============================>.] - ETA: 1s - loss: 0.8571 - acc: 0.5660"
     ]
    },
    {
     "name": "stderr",
     "output_type": "stream",
     "text": [
      "C:\\Users\\yueki\\Anaconda3\\lib\\site-packages\\PIL\\Image.py:888: UserWarning: Palette images with Transparency   expressed in bytes should be converted to RGBA images\n",
      "  'to RGBA images')\n"
     ]
    },
    {
     "name": "stdout",
     "output_type": "stream",
     "text": [
      "100/100 [==============================] - 208s 2s/step - loss: 0.8548 - acc: 0.5673 - val_loss: 0.7936 - val_acc: 0.5759\n",
      "Epoch 3/30\n",
      "100/100 [==============================] - 193s 2s/step - loss: 0.7251 - acc: 0.6281 - val_loss: 0.9369 - val_acc: 0.5963\n",
      "Epoch 4/30\n",
      "100/100 [==============================] - 201s 2s/step - loss: 0.6895 - acc: 0.6622 - val_loss: 1.3170 - val_acc: 0.5228\n",
      "Epoch 5/30\n",
      "100/100 [==============================] - 216s 2s/step - loss: 0.6271 - acc: 0.6755 - val_loss: 0.7033 - val_acc: 0.6938\n",
      "Epoch 6/30\n",
      "100/100 [==============================] - 201s 2s/step - loss: 0.5879 - acc: 0.6981 - val_loss: 0.8210 - val_acc: 0.6671\n",
      "Epoch 7/30\n",
      "100/100 [==============================] - 161s 2s/step - loss: 0.5546 - acc: 0.7383 - val_loss: 0.7785 - val_acc: 0.6638\n",
      "Epoch 8/30\n",
      "100/100 [==============================] - 139s 1s/step - loss: 0.5131 - acc: 0.7524 - val_loss: 0.8072 - val_acc: 0.7266\n",
      "Epoch 9/30\n",
      "100/100 [==============================] - 155s 2s/step - loss: 0.4741 - acc: 0.7780 - val_loss: 0.8746 - val_acc: 0.7212\n",
      "Epoch 10/30\n",
      "100/100 [==============================] - 151s 2s/step - loss: 0.4283 - acc: 0.8047 - val_loss: 0.7957 - val_acc: 0.6709\n",
      "Epoch 11/30\n",
      "100/100 [==============================] - 146s 1s/step - loss: 0.3932 - acc: 0.8279 - val_loss: 0.7377 - val_acc: 0.7287\n",
      "Epoch 12/30\n",
      "100/100 [==============================] - 144s 1s/step - loss: 0.3690 - acc: 0.8493 - val_loss: 0.7566 - val_acc: 0.7506\n",
      "Epoch 13/30\n",
      "100/100 [==============================] - 145s 1s/step - loss: 0.2878 - acc: 0.8810 - val_loss: 1.1460 - val_acc: 0.7137\n",
      "Epoch 14/30\n",
      "100/100 [==============================] - 146s 1s/step - loss: 0.2683 - acc: 0.8948 - val_loss: 1.3059 - val_acc: 0.6975\n",
      "Epoch 15/30\n",
      "100/100 [==============================] - 148s 1s/step - loss: 0.2330 - acc: 0.9128 - val_loss: 1.1343 - val_acc: 0.7350\n",
      "Epoch 16/30\n",
      "100/100 [==============================] - 149s 1s/step - loss: 0.1990 - acc: 0.9303 - val_loss: 1.0326 - val_acc: 0.7342\n",
      "Epoch 17/30\n",
      "100/100 [==============================] - 146s 1s/step - loss: 0.2091 - acc: 0.9380 - val_loss: 1.5846 - val_acc: 0.7300\n",
      "Epoch 18/30\n",
      "100/100 [==============================] - 149s 1s/step - loss: 0.1538 - acc: 0.9434 - val_loss: 1.4028 - val_acc: 0.6962\n",
      "Epoch 19/30\n",
      "100/100 [==============================] - 146s 1s/step - loss: 0.1319 - acc: 0.9600 - val_loss: 1.3585 - val_acc: 0.7506\n",
      "Epoch 20/30\n",
      "100/100 [==============================] - 148s 1s/step - loss: 0.1701 - acc: 0.9510 - val_loss: 1.7062 - val_acc: 0.7062\n",
      "Epoch 21/30\n",
      "100/100 [==============================] - 149s 1s/step - loss: 0.0944 - acc: 0.9715 - val_loss: 1.6208 - val_acc: 0.7380\n",
      "Epoch 22/30\n",
      "100/100 [==============================] - 141s 1s/step - loss: 0.0777 - acc: 0.9790 - val_loss: 1.8640 - val_acc: 0.7138\n",
      "Epoch 23/30\n",
      "100/100 [==============================] - 140s 1s/step - loss: 0.1186 - acc: 0.9700 - val_loss: 1.8069 - val_acc: 0.7152\n",
      "Epoch 24/30\n",
      "100/100 [==============================] - 142s 1s/step - loss: 0.0848 - acc: 0.9714 - val_loss: 1.6393 - val_acc: 0.7013\n",
      "Epoch 25/30\n",
      "100/100 [==============================] - 151s 2s/step - loss: 0.1039 - acc: 0.9750 - val_loss: 2.4872 - val_acc: 0.6873\n",
      "Epoch 26/30\n",
      "100/100 [==============================] - 178s 2s/step - loss: 0.0756 - acc: 0.9784 - val_loss: 2.3760 - val_acc: 0.7000\n",
      "Epoch 27/30\n",
      "100/100 [==============================] - 159s 2s/step - loss: 0.1139 - acc: 0.9705 - val_loss: 2.5283 - val_acc: 0.6468\n",
      "Epoch 28/30\n",
      "100/100 [==============================] - 173s 2s/step - loss: 0.2027 - acc: 0.9650 - val_loss: 1.9563 - val_acc: 0.7238\n",
      "Epoch 29/30\n",
      "100/100 [==============================] - 167s 2s/step - loss: 0.0913 - acc: 0.9780 - val_loss: 2.7681 - val_acc: 0.6810\n",
      "Epoch 30/30\n",
      "100/100 [==============================] - 174s 2s/step - loss: 0.1147 - acc: 0.9740 - val_loss: 2.1533 - val_acc: 0.6850\n"
     ]
    }
   ],
   "source": [
    "history = model.fit_generator(train_generator,\n",
    "                             steps_per_epoch=100,\n",
    "                             epochs=30,\n",
    "                             validation_data=validation_generator,\n",
    "                              validation_steps=40\n",
    "                             )"
   ]
  },
  {
   "cell_type": "code",
   "execution_count": 8,
   "metadata": {
    "collapsed": true
   },
   "outputs": [],
   "source": [
    "model.save('cats_and_dogs_small_1_20201121_2.h5')"
   ]
  },
  {
   "cell_type": "code",
   "execution_count": 9,
   "metadata": {},
   "outputs": [
    {
     "data": {
      "image/png": "[encoded data removed]",
      "text/plain": [
       "<Figure size 432x288 with 1 Axes>"
      ]
     },
     "metadata": {},
     "output_type": "display_data"
    },
    {
     "data": {
      "image/png": "[encoded data removed]",
      "text/plain": [
       "<Figure size 432x288 with 1 Axes>"
      ]
     },
     "metadata": {},
     "output_type": "display_data"
    }
   ],
   "source": [
    "import matplotlib.pyplot as plt\n",
    "acc = history.history['acc']\n",
    "val_acc = history.history['val_acc']\n",
    "loss = history.history['loss']\n",
    "val_loss = history.history['val_loss']\n",
    "\n",
    "epochs = range(1 , len(acc) + 1)\n",
    "\n",
    "# plot ratio\n",
    "plt.plot(epochs,acc,'bo',label='Training acc')\n",
    "plt.plot(epochs,val_acc, 'b', label='Validation acc')\n",
    "plt.title('Training and Validation accuracy')\n",
    "plt.legend()\n",
    "plt.figure()\n",
    "\n",
    "plt.plot(epochs, loss,'bo', label='Training loss')\n",
    "plt.plot(epochs, val_loss,'b',label='Validation loss')\n",
    "plt.title('Training and validation loss')\n",
    "plt.legend()\n",
    "\n",
    "plt.show()"
   ]
  },
  {
   "cell_type": "code",
   "execution_count": 10,
   "metadata": {},
   "outputs": [
    {
     "name": "stdout",
     "output_type": "stream",
     "text": [
      "Found 1400 images belonging to 4 classes.\n",
      "test acc: 0.7099999964237214\n"
     ]
    }
   ],
   "source": [
    "test_generator = test_datagen.flow_from_directory(\n",
    "        test_dir,\n",
    "        target_size=(150, 150),\n",
    "        batch_size=20,\n",
    "        class_mode='sparse')\n",
    "\n",
    "test_loss, test_acc = model.evaluate_generator(test_generator, steps=50)\n",
    "print('test acc:', test_acc)"
   ]
  }
 ],
 "metadata": {
  "kernelspec": {
   "display_name": "Python 3",
   "language": "python",
   "name": "python3"
  },
  "language_info": {
   "codemirror_mode": {
    "name": "ipython",
    "version": 3
   },
   "file_extension": ".py",
   "mimetype": "text/x-python",
   "name": "python",
   "nbconvert_exporter": "python",
   "pygments_lexer": "ipython3",
   "version": "3.6.2"
  }
 },
 "nbformat": 4,
 "nbformat_minor": 2
}
